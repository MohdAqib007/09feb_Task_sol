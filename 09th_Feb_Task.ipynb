{
 "cells": [
  {
   "cell_type": "code",
   "execution_count": 1,
   "id": "4da4dfff-b422-45a8-8564-ecb265f23e25",
   "metadata": {},
   "outputs": [],
   "source": [
    "#Q1, Create a vehicle class with an init method having instance variables as name_of_vehicle, max_speed and average_of_vehicle.\n",
    "\n",
    "#Ans-\n",
    "\n",
    "class Vehicle:\n",
    "    def __init__(self, name_of_vehicle, max_speed, average_of_vehicle):\n",
    "        self.name_of_vehicle = name_of_vehicle\n",
    "        self.max_speed = max_speed\n",
    "        self.average_of_vehicle = average_of_vehicle\n",
    "\n",
    "'''In this example, we define a Vehicle class with an __init__ method that takes three arguments: name_of_vehicle, max_speed, and average_of_vehicle. \n",
    "These arguments are used to initialize instance variables with the same names.\n",
    "For example, we can create an instance of the Vehicle class with the following code:'''\n",
    "\n",
    "car = Vehicle(\"Car\", 200, 30)\n",
    "\n",
    "'''This creates an instance of the Vehicle class with the name \"Car\", a maximum speed of 200, and an average speed of 30. \n",
    "The car object can now be used to represent a specific vehicle with these attributes.'''"
   ]
  },
  {
   "cell_type": "code",
   "execution_count": 4,
   "id": "0754dfeb-c778-435a-ae43-f94338ded939",
   "metadata": {},
   "outputs": [
    {
     "name": "stdout",
     "output_type": "stream",
     "text": [
      "Toyota has a seating capacity of 5 people.\n"
     ]
    }
   ],
   "source": [
    "#Q2. Create a child class car from the vehicle class created in Que 1, which will inherit the vehicle class. Create a method named seating_capacity which takes capacity as an argument and returns the name of the vehicle and its seating capacity.\n",
    "#Ans-\n",
    "\n",
    "class Car(Vehicle):\n",
    "    def __init__(self, name_of_vehicle, max_speed, average_of_vehicle):\n",
    "        super().__init__(name_of_vehicle, max_speed, average_of_vehicle)\n",
    "    \n",
    "    def seating_capacity(self, capacity):\n",
    "        return f\"{self.name_of_vehicle} has a seating capacity of {capacity} people.\"\n",
    "    \n",
    "'''In this example, we define a Car class that inherits from the Vehicle class defined in Q1. The __init__ method of the Car class calls the __init__ method of the parent class using the super() function.\n",
    "We then define a seating_capacity method that takes a capacity argument and returns a string that includes the name of the vehicle and its seating capacity.\n",
    "For example, we can create an instance of the Car class and call its seating_capacity method with the following code:'''\n",
    "\n",
    "car = Car(\"Toyota\", 200, 30)\n",
    "print(car.seating_capacity(5))  #This creates a Car instance with the name \"Toyota\", a maximum speed of 200, and an average speed of 30. The seating_capacity method is called with an argument of 5, which returns the string \"Toyota has a seating capacity of 5 people.\""
   ]
  },
  {
   "cell_type": "code",
   "execution_count": 5,
   "id": "7c013e4f-6a34-4529-9c34-4f59c927f933",
   "metadata": {},
   "outputs": [
    {
     "name": "stdout",
     "output_type": "stream",
     "text": [
      "This is Parent 1's method.\n",
      "This is Parent 2's method.\n",
      "This is the Child's method.\n"
     ]
    }
   ],
   "source": [
    "#Q3. What is multiple inheritance? Write a python code to demonstrate multiple inheritance.\n",
    "#Ans-\n",
    "\n",
    "'''Multiple inheritance is a feature of object-oriented programming where a class can inherit attributes and methods from more than one parent class. \n",
    "In Python, multiple inheritance is supported, which means that a class can inherit from multiple parent classes.\n",
    "\n",
    "Here's an example of how to demonstrate multiple inheritance in Python:'''\n",
    "\n",
    "\n",
    "class Parent1:\n",
    "    def method1(self):\n",
    "        print(\"This is Parent 1's method.\")\n",
    "\n",
    "class Parent2:\n",
    "    def method2(self):\n",
    "        print(\"This is Parent 2's method.\")\n",
    "\n",
    "class Child(Parent1, Parent2):\n",
    "    def method3(self):\n",
    "        print(\"This is the Child's method.\")\n",
    "\n",
    "# create an instance of the Child class\n",
    "child = Child()\n",
    "\n",
    "# call methods from the parent classes\n",
    "child.method1()  # prints \"This is Parent 1's method.\"\n",
    "child.method2()  # prints \"This is Parent 2's method.\"\n",
    "\n",
    "# call the method defined in the Child class\n",
    "child.method3()  # prints \"This is the Child's method.\"\n",
    "\n",
    "\n",
    "\n",
    "'''In this example, we define two parent classes (Parent1 and Parent2) with their own methods, and a child class (Child) that inherits from both parent classes using multiple inheritance. \n",
    "The Child class also defines its own method.\n",
    "We then create an instance of the Child class and call methods from both parent classes as well as the method defined in the Child class.\n",
    "This example demonstrates how we can use multiple inheritance in Python to combine attributes and methods from multiple parent classes into a single child class.'''"
   ]
  },
  {
   "cell_type": "code",
   "execution_count": 7,
   "id": "59b06a5f-8225-44f1-aea6-08a5aa0043fb",
   "metadata": {},
   "outputs": [
    {
     "name": "stdout",
     "output_type": "stream",
     "text": [
      "John\n",
      "Mike\n"
     ]
    },
    {
     "data": {
      "text/plain": [
       "'This creates a Person instance with the name \"John\", then calls the get_name method to retrieve the value of the _name attribute and print it. \\nWe then call the set_name method to set the value of the _name attribute to \"Mike\" and call the get_name method again to retrieve and print the new value of the _name attribute.'"
      ]
     },
     "execution_count": 7,
     "metadata": {},
     "output_type": "execute_result"
    }
   ],
   "source": [
    "#Q4. What are getter and setter in python? Create a class and create a getter and a setter method in this class.\n",
    "#Ans-\n",
    "\n",
    "'''In Python, getter and setter methods are used to access and modify the attributes of a class. \n",
    "They provide a way to encapsulate the class attributes and protect them from being accessed or modified directly.\n",
    "\n",
    "A getter method is used to get the value of an attribute, while a setter method is used to set the value of an attribute. \n",
    "Here's an example of how to create a class with getter and setter methods in Python:'''\n",
    "\n",
    "\n",
    "class Person:\n",
    "    def __init__(self, name):\n",
    "        self._name = name  # protected attribute with a leading underscore\n",
    "\n",
    "    # getter method to get the value of the name attribute\n",
    "    def get_name(self):\n",
    "        return self._name\n",
    "\n",
    "    # setter method to set the value of the name attribute\n",
    "    def set_name(self, new_name):\n",
    "        self._name = new_name\n",
    "\n",
    "        \n",
    "'''In this example, we define a Person class with a protected attribute _name and two methods get_name and set_name. \n",
    "The get_name method returns the value of the _name attribute, while the set_name method sets the value of the _name attribute to the value passed as an argument.\n",
    "We use a leading underscore to indicate that the _name attribute is protected and should not be accessed or modified directly from outside the class. \n",
    "Instead, we provide getter and setter methods to access and modify the attribute.\n",
    "For example, we can create an instance of the Person class and call its getter and setter methods with the following code:'''\n",
    "\n",
    "\n",
    "person = Person(\"John\")\n",
    "print(person.get_name())  # prints \"John\"\n",
    "\n",
    "person.set_name(\"Mike\")\n",
    "print(person.get_name())  # prints \"Mike\"\n",
    "\n",
    "\n",
    "'''This creates a Person instance with the name \"John\", then calls the get_name method to retrieve the value of the _name attribute and print it. \n",
    "We then call the set_name method to set the value of the _name attribute to \"Mike\" and call the get_name method again to retrieve and print the new value of the _name attribute.'''"
   ]
  },
  {
   "cell_type": "code",
   "execution_count": null,
   "id": "b8afdf71-2469-4528-8bc6-995057906a17",
   "metadata": {},
   "outputs": [],
   "source": [
    "#Q5.What is method overriding in python? Write a python code to demonstrate method overriding.\n",
    "#Ans-\n",
    "\n",
    "'''Method overriding is a feature of object-oriented programming where a subclass provides a different implementation of a method that is already defined in its parent class. \n",
    "This allows the subclass to change the behavior of the inherited method without modifying the original implementation in the parent class.\n",
    "\n",
    "Here's an example of how to demonstrate method overriding in Python:'''\n",
    "\n",
    "\n",
    "class Parent:\n",
    "    def method(self):\n",
    "        print(\"This is the Parent's method.\")\n",
    "\n",
    "class Child(Parent):\n",
    "    def method(self):\n",
    "        print(\"This is the Child's method.\")\n",
    "\n",
    "# create an instance of the Parent class\n",
    "parent = Parent()\n",
    "\n",
    "# call the method from the Parent class\n",
    "parent.method()  # prints \"This is the Parent's method.\"\n",
    "\n",
    "# create an instance of the Child class\n",
    "child = Child()\n",
    "\n",
    "# call the same method from the Child class\n",
    "child.method()  # prints \"This is the Child's method.\"\n",
    "\n",
    "\n",
    "'''In this example, we define a Parent class with a method called method, and a Child class that inherits from the Parent class and overrides the method method with its own implementation.\n",
    "\n",
    "We then create an instance of the Parent class and call the method method, which prints \"This is the Parent's method.\" We then create an instance of the Child class and call the same method method, which prints \"This is the Child's method.\" \n",
    "This demonstrates how the Child class has overridden the behavior of the method method inherited from the Parent class with its own implementation.\n",
    "'''"
   ]
  }
 ],
 "metadata": {
  "kernelspec": {
   "display_name": "Python 3 (ipykernel)",
   "language": "python",
   "name": "python3"
  },
  "language_info": {
   "codemirror_mode": {
    "name": "ipython",
    "version": 3
   },
   "file_extension": ".py",
   "mimetype": "text/x-python",
   "name": "python",
   "nbconvert_exporter": "python",
   "pygments_lexer": "ipython3",
   "version": "3.10.8"
  }
 },
 "nbformat": 4,
 "nbformat_minor": 5
}
